{
 "cells": [
  {
   "cell_type": "markdown",
   "id": "61ab5f1c",
   "metadata": {},
   "source": [
    "## Fruit guessing game"
   ]
  },
  {
   "cell_type": "code",
   "execution_count": null,
   "id": "8081f892",
   "metadata": {},
   "outputs": [],
   "source": [
    "import random\n",
    "user_name=input(\"Enter the your name \")\n",
    "print('-'*10,f\"Welocome {user_name} Ji in Fruit Guess Game \",'-'*10)\n",
    "Fruits=['Apple','Watermelon','Orange','Pear','Cherry','Strawberry','Nectarine','Grape','Mango','Blueberry',\n",
    "        'Pomegranate','Carambola','Plum','Banana','Raspberry','Mandarin','Jackfruit','Papaya',\n",
    "'Kiwi','Pineapple','Lime','Lemon','Apricot','Grapefruit','Melon','Coconut','Avocado','Peach'\n",
    "]\n",
    "print(Fruits)\n",
    "print('-'*10,\"You Can Chosse Fruit name in the given list\",'-'*10)\n",
    "print('*'*10,\"If you want to quit then type '999' at the Enter the Fruit\",'*'*10)\n",
    "\n",
    "\n",
    "  \n",
    "while True:\n",
    "    Fruit_name=input(\"Enter the your Fruits Please :\")\n",
    "    A=random.choice(Fruits)\n",
    "    if '999'==Fruit_name:\n",
    "        print(f\"your Potential is too Low {user_name} to playing this game \")\n",
    "        break\n",
    "    elif Fruit_name == A :\n",
    "        print(\"Your number Chossed Correct Fruit \")\n",
    "        break\n",
    "    else:\n",
    "        print(\"you enter wrong Fruit or invalid input\")\n",
    "        print(A)\n",
    "            \n",
    "            \n",
    "        \n",
    "            \n",
    "  \n",
    "   \n",
    "        \n",
    "        \n",
    "        \n",
    "print(f\"Thanks For Playing Game {user_name}\")"
   ]
  },
  {
   "cell_type": "code",
   "execution_count": null,
   "id": "f0dcda2c",
   "metadata": {},
   "outputs": [],
   "source": []
  }
 ],
 "metadata": {
  "kernelspec": {
   "display_name": "Python 3 (ipykernel)",
   "language": "python",
   "name": "python3"
  },
  "language_info": {
   "codemirror_mode": {
    "name": "ipython",
    "version": 3
   },
   "file_extension": ".py",
   "mimetype": "text/x-python",
   "name": "python",
   "nbconvert_exporter": "python",
   "pygments_lexer": "ipython3",
   "version": "3.9.13"
  }
 },
 "nbformat": 4,
 "nbformat_minor": 5
}
